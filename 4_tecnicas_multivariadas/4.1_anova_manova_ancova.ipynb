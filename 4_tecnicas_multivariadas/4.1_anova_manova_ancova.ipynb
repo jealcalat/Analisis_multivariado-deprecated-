{
 "cells": [
  {
   "cell_type": "markdown",
   "metadata": {},
   "source": [
    "# 4. Técnicas multivariadas\n",
    "## 4.1. ANOVA\n",
    "\n",
    "<p align=\"right\">\n",
    "Autor: Emmanuel Alcalá\n",
    "<br>\n",
    "<a href=\"https://scholar.google.com.mx/citations?hl=en&user=3URusCgAAAAJ&view_op=list_works&sortby=pubdate\">Google Scholar</a>\n",
    "</p>\n",
    "\n",
    "<p align=\"left\">\n",
    "<br>\n",
    "<a href=\"https://jealcalat.github.io/Analisis_multivariado/\">Regresar a la página del curso</a>\n",
    "</p>\n",
    "\n",
    "---"
   ]
  },
  {
   "cell_type": "code",
   "execution_count": 3,
   "metadata": {},
   "outputs": [],
   "source": [
    "import numpy as np\n",
    "import pandas as pd\n",
    "import statsmodels.formula.api as smf\n",
    "import scipy.stats as stats\n",
    "import matplotlib.pyplot as plt\n",
    "\n",
    "# graficar anova de una vía\n",
    "def one_way_anova_plot(figsize=(10, 8)):\n",
    "    # Construct data as a pd.DataFrame\n",
    "    a = np.random.normal(0, 1, 20)\n",
    "    b = np.random.normal(-2, 1, 20)\n",
    "    c = np.random.normal(3, 1, 20)\n",
    "    d = np.random.normal(1.5, 1, 20)\n",
    "\n",
    "    df = pd.DataFrame()\n",
    "    df[\"y\"] = np.concatenate([a, b, c, d])\n",
    "    df[\"group_2\"] = np.concatenate(\n",
    "        [np.zeros_like(b)] + [np.ones_like(b)] + 2 * [np.zeros_like(b)]\n",
    "    )\n",
    "    df[\"group_3\"] = np.concatenate(\n",
    "        2 * [np.zeros_like(c)] + [np.ones_like(c)] + [np.zeros_like(c)]\n",
    "    )\n",
    "    df[\"group_4\"] = np.concatenate(3 * [np.zeros_like(d)] + [np.ones_like(d)])\n",
    "\n",
    "    # ANOVA equivalent linear model\n",
    "    res = smf.ols(\"y ~ 1 + group_2 + group_3 + group_4\", df).fit()\n",
    "    beta0, beta1, beta2, beta3 = res.params\n",
    "\n",
    "    # Plot\n",
    "    fig, ax = plt.subplots(figsize=figsize)\n",
    "    ax.scatter(0 * np.ones_like(a), a, color=\"k\")\n",
    "    ax.scatter(1 * np.ones_like(b), b, color=\"k\")\n",
    "    ax.scatter(2 * np.ones_like(c), c, color=\"k\")\n",
    "    ax.scatter(3 * np.ones_like(d), d, color=\"k\")\n",
    "\n",
    "    # Group 1 (baseline)\n",
    "    ax.axhline(beta0, color=\"b\", label=r\"$\\beta_0$ (media de grupo 1)\")\n",
    "\n",
    "    # Group 2\n",
    "    ax.plot([0.7, 1.3], 2 * [beta0 + beta1], color=\"navy\")\n",
    "    ax.plot(\n",
    "        [0, 1],\n",
    "        [beta0, beta0 + beta1],\n",
    "        color=\"r\",\n",
    "        label=r\"$\\beta_1, \\beta_2, ...$ (diferencias con respecto a $\\beta_0$)\",\n",
    "    )\n",
    "\n",
    "    # Group 3\n",
    "    ax.plot(\n",
    "        [1.7, 2.3],\n",
    "        2 * [beta0 + beta2],\n",
    "        color=\"navy\",\n",
    "        label=r\"$\\beta_0+\\beta_1, \\beta_0+\\beta_2 ...$ (medias de grupo 2, 3, ...)\",\n",
    "    )\n",
    "    ax.plot([1, 2], [beta0, beta0 + beta2], color=\"r\")\n",
    "\n",
    "    # Group 4\n",
    "    ax.plot([2.7, 3.3], 2 * [beta0 + beta3], color=\"navy\")\n",
    "    ax.plot([2, 3], [beta0, beta0 + beta3], color=\"r\")\n",
    "\n",
    "    ax.legend(fontsize=9.5, loc=\"upper left\")\n",
    "\n",
    "    return fig, ax\n"
   ]
  },
  {
   "attachments": {},
   "cell_type": "markdown",
   "metadata": {},
   "source": [
    "El análisis de ANOVA (Análisis de Varianza) es una técnica estadística que permite comparar la diferencia entre dos o más grupos de una variable cuantitativa, es decir, permite comparar las medias entre categorías. En este caso, la variable cuantitativa es la variable dependiente y las variables categóricas son las variables independientes."
   ]
  },
  {
   "attachments": {},
   "cell_type": "markdown",
   "metadata": {},
   "source": [
    "En los experimentos, la variable dependiente es la variable que se mide y las variables independientes son las variables que se manipulan. Por ejemplo, en un experimento en donde queremos medir la altura de las plantas de maíz, la variable dependiente es la altura de las plantas y las variables independientes son el tipo de suelo, la cantidad de agua, la cantidad de fertilizante, etc. \n",
    "\n",
    "Las variables independientes también se conocen como factores. En el ejemplo anterior, el tipo de suelo, la cantidad de agua y la cantidad de fertilizante son factores. El nivel de intensidad de un factor se denomina nivel del factor. Por ejemplo, el tipo de suelo puede ser un factor con tres niveles: suelo arenoso, suelo arcilloso y suelo limoso. La cantidad de agua puede ser un factor con tres niveles: 0, 50 y 100 litros. La cantidad de fertilizante puede ser un factor con tres niveles: 0, 50 y 100 litros. Notar que los niveles de los factores son discretos o categóricos."
   ]
  },
  {
   "attachments": {},
   "cell_type": "markdown",
   "metadata": {},
   "source": [
    "### Procedimiento del análisis de varianza\n",
    "\n",
    "El procedimiento de ANOVA trata de analizar la variación en un conjunto de respuestas y asignar esta variación a los diferentes factores. El procedimiento de ANOVA se puede resumir en los siguientes pasos: \n",
    "\n",
    "Paso 1: Se establece la hipótesis nula y la hipótesis alternativa. La hipótesis nula es que no hay diferencia entre los grupos. La hipótesis alternativa es que hay diferencia entre los grupos. Matemáticamente, se expresa así: \n",
    "\n",
    "$$H_0: \\mu_1 = \\mu_2 = \\cdots = \\mu_k$$ \n",
    "$$H_a: \\mu_i \\neq \\mu_j$$ \n",
    "\n",
    "Donde $\\mu_i$ es la media de la respuesta en el grupo $i$ y $k$ es el número de factores.\n",
    "\n",
    "Paso 2: Se calcula la suma de cuadrados total (SST).\n",
    "\n",
    "$$SST = \\sum_{i=1}^k\\sum_{j=1}^{n_i}=(y_{ij} - \\bar{y})^2$$ \n",
    "\n",
    "En donde $k$ es el número de factores, $n_i$ es el número de observaciones en el grupo $i$, $\\bar{y}$ es la media de las respuestas y $y_{ij}$ es la respuesta en la observación $j$ del grupo $i$. \n",
    "\n",
    "Se llama suma de cuadrados total (SST) a la suma de cuadrados entre los grupos (SSG) y la suma de cuadrados dentro de los grupos (SSW). Matemáticamente, se expresa así: \n",
    "\n",
    "$$SST = SSG + SSW$$\n",
    "\n",
    "En ocasiones, el SSW se denomina suma de cuadrados residual (SSR) o suma de cuadrados de error (SSE). Básicamente, captura la variación que no se explica por los factores (que sería SSG).\n",
    "\n",
    "Paso 3: Se calcula la suma de cuadrados entre los grupos (SSG) y la suma de cuadrados dentro de los grupos (SSW). Se calculan con las fórmulas siguientes: \n",
    "\n",
    "$$SSG = \\sum_{i=1}^{k} n_i (\\bar{y}_i - \\bar{y})^2$$ \n",
    "\n",
    "$$SSW = \\sum_{i=1}^{k} \\sum_{j=1}^{n_i} (y_{ij} - \\bar{y}_i)^2$$ \n",
    "\n",
    "Donde $k$ es el número de factores, $n_i$ es el número de observaciones en el grupo $i$, $\\bar{y}_i$ es la media de las respuestas en el grupo $i$ y $y_{ij}$ es la respuesta en la observación $j$ del grupo $i$.\n",
    "\n",
    "La SSG será grande si la diferencia $\\bar{y}_i - \\bar{y}$ es grande. Cuanto más grande sea SSG, mayor será el porcentaje de variación que se explica por los factores, por lo que tenemos más evidencia en contra de $H_0$. La SSW será grande si la diferencia $y_{ij} - \\bar{y}_i$ es grande. Cuanto más grande sea SSW, menor será el porcentaje de variación que se explica por los factores.\n",
    "\n",
    "\n",
    "Paso 4: Se calcula la varianza entre los grupos (MSG) y la varianza dentro de los grupos (MSW). Sus fórmulas son: $$MSG = \\frac{SSG}{k-1}$$ $$MSW = \\frac{SSW}{N-k}$$ Donde $k$ es el número de factores y $N$ es el número de observaciones.\n",
    "\n",
    "Paso 5: Se calcula el estadístico F. El valor F es una medida de la variación entre los grupos dividida por la variación dentro de los grupos. Considera que la variación entre los grupos es la variación que se explica por los factores y la variación dentro de los grupos es la variación que no se explica por los factores. Matemáticamente, se expresa como: \n",
    "\n",
    "$$F = \\frac{MSG}{MSW}$$\n",
    "\n",
    "Si la variación explicada por los factores es grande, el valor F será grande y $F>>1$. Si la variación explicada por los factores es pequeña, el valor F será pequeño y $F<<1$. Si la variación explicada por los factores es igual a la variación no explicada por los factores, el valor F será igual a 1. El valor de F nos indica cuánta evidencia tenemos en contra de $H_0$.\n",
    "\n",
    "**Nota:**\n",
    "\n",
    "El valor F proviene de una distribución F con $k-1$ y $n-k$ grados de libertad. Se usa la distribución F porque la varianza entre los grupos y la varianza dentro de los grupos tienen distribuciones $\\chi^2$ con $k-1$ y $n-k$ grados de libertad, respectivamente. La distribución F se define como la razón de dos variables aleatorias con distribución $\\chi^2$. \n",
    "\n",
    "Paso 6: Se calcula el p-valor. El p-valor es la probabilidad de obtener un valor de F mayor o igual al valor de F observado, suponiendo que $H_0$ es verdadera. Si el p-valor es menor que el nivel de significancia, se rechaza $H_0$ y se acepta $H_a$. Si el p-valor es mayor que el nivel de significancia, no se rechaza $H_0$.\n",
    "\n",
    "Paso 7: Se toma una decisión. Si el p-valor es menor que el nivel de significancia, se rechaza la hipótesis nula y se acepta la hipótesis alternativa. Si el p-valor es mayor que el nivel de significancia, no se rechaza la hipótesis nula."
   ]
  },
  {
   "cell_type": "code",
   "execution_count": 4,
   "metadata": {},
   "outputs": [
    {
     "data": {
      "text/plain": [
       "(<Figure size 800x500 with 1 Axes>, <AxesSubplot:>)"
      ]
     },
     "execution_count": 4,
     "metadata": {},
     "output_type": "execute_result"
    },
    {
     "data": {
      "image/png": "[encoded data removed]",
      "text/plain": [
       "<Figure size 800x500 with 1 Axes>"
      ]
     },
     "metadata": {},
     "output_type": "display_data"
    }
   ],
   "source": [
    "one_way_anova_plot(figsize=(8, 5))"
   ]
  },
  {
   "attachments": {},
   "cell_type": "markdown",
   "metadata": {},
   "source": [
    "### Ejemplo numérico\n",
    "\n",
    "Supongamos que se quiere estudiar el efecto del tipo de fertilizante en la producción de maíz. Se toman muestras de maíz en tres tipos de fertilizantes: A, B y C. Para cada tipo de fertilizante se tomaron 20 muestras. En total, nuestra N total es 60. \n",
    "\n"
   ]
  },
  {
   "cell_type": "code",
   "execution_count": 5,
   "metadata": {},
   "outputs": [
    {
     "data": {
      "text/html": [
       "<div>\n",
       "<style scoped>\n",
       "    .dataframe tbody tr th:only-of-type {\n",
       "        vertical-align: middle;\n",
       "    }\n",
       "\n",
       "    .dataframe tbody tr th {\n",
       "        vertical-align: top;\n",
       "    }\n",
       "\n",
       "    .dataframe thead th {\n",
       "        text-align: right;\n",
       "    }\n",
       "</style>\n",
       "<table border=\"1\" class=\"dataframe\">\n",
       "  <thead>\n",
       "    <tr style=\"text-align: right;\">\n",
       "      <th></th>\n",
       "      <th>y</th>\n",
       "      <th>group</th>\n",
       "      <th>group_b</th>\n",
       "      <th>group_c</th>\n",
       "    </tr>\n",
       "  </thead>\n",
       "  <tbody>\n",
       "    <tr>\n",
       "      <th>0</th>\n",
       "      <td>12.828739</td>\n",
       "      <td>a</td>\n",
       "      <td>0.0</td>\n",
       "      <td>0.0</td>\n",
       "    </tr>\n",
       "    <tr>\n",
       "      <th>1</th>\n",
       "      <td>16.994691</td>\n",
       "      <td>a</td>\n",
       "      <td>0.0</td>\n",
       "      <td>0.0</td>\n",
       "    </tr>\n",
       "    <tr>\n",
       "      <th>2</th>\n",
       "      <td>15.565957</td>\n",
       "      <td>a</td>\n",
       "      <td>0.0</td>\n",
       "      <td>0.0</td>\n",
       "    </tr>\n",
       "    <tr>\n",
       "      <th>3</th>\n",
       "      <td>11.987411</td>\n",
       "      <td>a</td>\n",
       "      <td>0.0</td>\n",
       "      <td>0.0</td>\n",
       "    </tr>\n",
       "    <tr>\n",
       "      <th>4</th>\n",
       "      <td>13.842799</td>\n",
       "      <td>a</td>\n",
       "      <td>0.0</td>\n",
       "      <td>0.0</td>\n",
       "    </tr>\n",
       "  </tbody>\n",
       "</table>\n",
       "</div>"
      ],
      "text/plain": [
       "           y group  group_b  group_c\n",
       "0  12.828739     a      0.0      0.0\n",
       "1  16.994691     a      0.0      0.0\n",
       "2  15.565957     a      0.0      0.0\n",
       "3  11.987411     a      0.0      0.0\n",
       "4  13.842799     a      0.0      0.0"
      ]
     },
     "execution_count": 5,
     "metadata": {},
     "output_type": "execute_result"
    }
   ],
   "source": [
    "# set the seed\n",
    "np.random.seed(123)\n",
    "# number of points for each group\n",
    "num_points = 20\n",
    "# simulate data from 3 groups. The first argument is the mean, the second is the standard deviation\n",
    "a = np.random.normal(15, 2, num_points)\n",
    "b = np.random.normal(17, 2, num_points)\n",
    "c = np.random.normal(13, 2, num_points)\n",
    "\n",
    "df = pd.DataFrame()\n",
    "df[\"y\"] = np.concatenate([a, b, c])\n",
    "# assign group names\n",
    "df[\"group\"] = list(\"\".join([num_points * char for char in \"abc\"]))\n",
    "# create dummy variables for each group. Note that we drop the first group,\n",
    "# so that group a is the baseline. \n",
    "# The model is y = beta0 + beta1 * group_b + beta2 * group_c\n",
    "df = df.join(pd.get_dummies(df.group, prefix=\"group\", drop_first=True).astype(np.float64))\n",
    "df.head()"
   ]
  },
  {
   "cell_type": "code",
   "execution_count": 6,
   "metadata": {},
   "outputs": [
    {
     "data": {
      "image/png": "[encoded data removed]",
      "text/plain": [
       "<Figure size 640x480 with 1 Axes>"
      ]
     },
     "metadata": {},
     "output_type": "display_data"
    }
   ],
   "source": [
    "# plot de anova de una vía para a, b, c\n",
    "\n",
    "colors = {'a': 'red', 'b': 'blue', 'c': 'green'}\n",
    "fig, ax = plt.subplots()\n",
    "for key, group in df.groupby('group'):\n",
    "    # add the group data\n",
    "    group.plot(ax=ax, kind='scatter', x='group', y='y', label=key, color=colors[key])\n",
    "    # add the group mean\n",
    "    plt.axhline(group.y.mean(), color=colors[key], linestyle='--')\n",
    "plt.show()"
   ]
  },
  {
   "cell_type": "code",
   "execution_count": 7,
   "metadata": {},
   "outputs": [
    {
     "name": "stdout",
     "output_type": "stream",
     "text": [
      "F-statistic: 5.792, p-value: 5.1e-03\n"
     ]
    },
    {
     "data": {
      "text/plain": [
       "<matplotlib.legend.Legend at 0x7fb9b6cadee0>"
      ]
     },
     "execution_count": 7,
     "metadata": {},
     "output_type": "execute_result"
    },
    {
     "data": {
      "image/png": "[encoded data removed]",
      "text/plain": [
       "<Figure size 640x480 with 1 Axes>"
      ]
     },
     "metadata": {},
     "output_type": "display_data"
    }
   ],
   "source": [
    "# fit the model using the formula notation\n",
    "res = smf.ols(\"y ~ 1 + group_b + group_c\", df).fit()\n",
    "# Obtain the SST, SSG and SSW. MSE is the mean of the squared residuals, \n",
    "# also known as the residual variance\n",
    "# MSE of each sum of squares is the sum of squares divided by the degrees of freedom.\n",
    "# For SST the degrees of freedom is the number of points minus one. For each group  \n",
    "# we have num_points, the the grand N is num_points * 3. \n",
    "SST = res.mse_total * (num_points * 3 - 1)\n",
    "# The SSG degrees of freedom is the number of groups minus one.\n",
    "SSG = res.mse_model * 2\n",
    "# The SSW degrees of freedom is the number of points minus the number of groups.\n",
    "SSW = res.mse_resid * (num_points * 3 - 3)\n",
    "\n",
    "# the following is equivalent to the above\n",
    "# SST = np.sum((df.y - df.y.mean()) ** 2)\n",
    "# SSG = np.sum((df.y.mean() - df[[\"group_b\", \"group_c\"]].dot(res.params[1:])) ** 2)\n",
    "# SSW = SST - SSG\n",
    "\n",
    "# calculate the F-statistic recomputing the MSG and MSW\n",
    "MSG = SSG / 2\n",
    "MSW = SSW / (num_points * 3 - 3)\n",
    "F_stat = MSG / MSW\n",
    "\n",
    "# note that the F-statistic is the same as the one obtained from the model using \n",
    "# F_stat = res.mse_model/ res.mse_resid\n",
    "\n",
    "# Evaluate the p-value using the F distribution with 2 and 3 * num_points - 3 degrees of freedom\n",
    "p_val = 1 - stats.f.cdf(F_stat, 2, 3 * num_points - 3)\n",
    "# print the F-statistic and the p-value in scientific format\n",
    "print(\"F-statistic: {:.3f}, p-value: {:.1e}\".format(F_stat, p_val))\n",
    "\n",
    "# plot the F distribution for the null and add the F_stat in blue and the F_critical at 5% in red.\n",
    "# The null is that the groups have the same mean, so the F-statistic should be close to 1.\n",
    "F_critical = stats.f.ppf(0.95, 2, 3 * num_points - 3)\n",
    "F_quantiles = np.linspace(0, 10, 1000)\n",
    "F_pdf = stats.f.pdf(F_quantiles, 2, 3 * num_points - 3)\n",
    "\n",
    "plt.plot(F_quantiles, F_pdf, label=\"F distribution\")\n",
    "plt.axvline(F_stat, color=\"b\", label=\"F-statistic\")\n",
    "plt.axvline(F_critical, color=\"r\", label=\"F-critical\")\n",
    "plt.title(\"F-distribution for the null hypothesis\")\n",
    "plt.xlabel(\"F-statistic\")\n",
    "plt.ylabel(\"Density\")\n",
    "# annotate the text of the F-critical and F-statistic values vertically within bbox\n",
    "plt.text(F_critical*1.05, 0.1, f'F-critical = {F_critical.round(2)}', \n",
    "         rotation=90, bbox=dict(facecolor='none', edgecolor='r',boxstyle='round'), alpha=0.5)\n",
    "plt.text(F_stat*1.03, 0.1, f'F-statistic = {F_stat.round(2)}', \n",
    "         rotation=90, bbox=dict(facecolor='none', edgecolor='b',boxstyle='round'), alpha=0.5)\n",
    "plt.legend()"
   ]
  },
  {
   "cell_type": "code",
   "execution_count": 8,
   "metadata": {},
   "outputs": [
    {
     "name": "stdout",
     "output_type": "stream",
     "text": [
      "SST: 383.954\n",
      "SSG + SSW: 383.954\n"
     ]
    }
   ],
   "source": [
    "# print the SST as the sum of SSG and SSW\n",
    "print(\"SST: {:.3f}\".format(SST))\n",
    "print(\"SSG + SSW: {:.3f}\".format(SSG + SSW))"
   ]
  },
  {
   "cell_type": "code",
   "execution_count": 9,
   "metadata": {},
   "outputs": [
    {
     "data": {
      "text/plain": [
       "5.792086672196458"
      ]
     },
     "execution_count": 9,
     "metadata": {},
     "output_type": "execute_result"
    }
   ],
   "source": [
    "# los valores que regresa el modelo son los mismos que los que se calculan a mano.\n",
    "# Imprimir res.fvalue, res.f_pvalue\n",
    "res.fvalue"
   ]
  },
  {
   "attachments": {},
   "cell_type": "markdown",
   "metadata": {},
   "source": [
    "Si el F-stat es mayor que el F-critico, entonces rechazamos la hipótesis nula. En este caso, el F-stat es 5.79 y el F-critico es 3.16. Por lo tanto, rechazamos la hipótesis nula y aceptamos la hipótesis alternativa. Esto significa que hay una diferencia significativa entre los tipos de fertilizante. "
   ]
  },
  {
   "attachments": {},
   "cell_type": "markdown",
   "metadata": {},
   "source": [
    "Notar que aún no sabemos cuál grupo es diferente. El análisis de varianza nos dice que hay una diferencia significativa entre los grupos, pero no nos dice cuál grupo es diferente.Para saberlo, se debe realizar un análisis de comparación de medias.\n",
    "\n",
    "Para la comparación múltiple podemos usar el HSD (honest significant difference) de Tukey. Consiste en comparar cada grupo con el resto de los grupos. Si el p-valor, ajustado por el método de Tukey, es menor que el nivel de significancia, se rechaza la hipótesis nula y se acepta la hipótesis alternativa. Si el p-valor es mayor que el nivel de significancia, no se rechaza la hipótesis nula. El análisis de Tukey realiza un ajuste para las comparaciones múltiples de tal forma que mantenga el nivel de significancia global en el nivel de significancia elegido (e.g., 0.05).\n",
    "\n",
    "Otra forma de probar las hipótesis es calcular el HSD de Tukey y compararlo con el HSD crítico. El HSD crítico se calcula con la siguiente fórmula:\n",
    "\n",
    "$$\\mathrm{HSD}_\\text{critical value}=q_{\\text{crit}}\\sqrt{\\frac{\\mathrm{MSE}}{n}}$$\n",
    "\n",
    "$$\n",
    "\\left|\\overline{y}_{i}-\\overline{y}_{j}\\right|>\\mathrm{HSD}_\\text{critical value}\n",
    "$$\n",
    "\n",
    "En donde $\\hat{y}_{i}$ es la media de las respuestas en el grupo $i$, $\\hat{y}_{j}$ es la media de las respuestas en el grupo $j$, $n$ es el número réplicas por grupo, $MSE$ es el error cuadrático medio y $q_{\\text{crit}}$ es el valor crítico de la distribución de rango estudentizada.\n",
    "Es difícil calcular manualmente el $q_{\\text{crit}}$. Se puede usar la tabla de Tukey para obtener el $q_{\\text{crit}}$, o . "
   ]
  },
  {
   "cell_type": "code",
   "execution_count": 10,
   "metadata": {},
   "outputs": [
    {
     "data": {
      "text/plain": [
       "2.831913810712787"
      ]
     },
     "execution_count": 10,
     "metadata": {},
     "output_type": "execute_result"
    }
   ],
   "source": [
    "from scipy.stats import studentized_range as sr\n",
    "sr.ppf(0.95, 2, 3 * 20 - 3)"
   ]
  },
  {
   "cell_type": "code",
   "execution_count": 11,
   "metadata": {},
   "outputs": [
    {
     "data": {
      "text/plain": [
       "group\n",
       "a    15.228835\n",
       "b    16.437643\n",
       "c    13.892119\n",
       "Name: y, dtype: float64"
      ]
     },
     "execution_count": 11,
     "metadata": {},
     "output_type": "execute_result"
    }
   ],
   "source": [
    "# obtain the group means\n",
    "df.groupby(\"group\").y.mean()"
   ]
  },
  {
   "cell_type": "code",
   "execution_count": 12,
   "metadata": {},
   "outputs": [
    {
     "name": "stdout",
     "output_type": "stream",
     "text": [
      "group a mean: 15.229\n",
      "group b mean: 16.438\n",
      "group c mean: 13.892\n"
     ]
    }
   ],
   "source": [
    "# obtain the group means by using the model\n",
    "group_a_mean = res.params[0]\n",
    "group_b_mean = res.params[0] + res.params[1]\n",
    "group_c_mean = res.params[0] + res.params[2]\n",
    "# print the group means\n",
    "print(\"group a mean: {:.3f}\".format(group_a_mean))\n",
    "print(\"group b mean: {:.3f}\".format(group_b_mean))\n",
    "print(\"group c mean: {:.3f}\".format(group_c_mean))"
   ]
  },
  {
   "cell_type": "code",
   "execution_count": 13,
   "metadata": {},
   "outputs": [
    {
     "data": {
      "text/html": [
       "<table class=\"simpletable\">\n",
       "<caption>Multiple Comparison of Means - Tukey HSD, FWER=0.05</caption>\n",
       "<tr>\n",
       "  <th>group1</th> <th>group2</th> <th>meandiff</th>  <th>p-adj</th>  <th>lower</th>   <th>upper</th> <th>reject</th>\n",
       "</tr>\n",
       "<tr>\n",
       "     <td>a</td>      <td>b</td>    <td>1.2088</td>  <td>0.2474</td> <td>-0.5917</td> <td>3.0093</td>  <td>False</td>\n",
       "</tr>\n",
       "<tr>\n",
       "     <td>a</td>      <td>c</td>    <td>-1.3367</td> <td>0.1832</td> <td>-3.1372</td> <td>0.4638</td>  <td>False</td>\n",
       "</tr>\n",
       "<tr>\n",
       "     <td>b</td>      <td>c</td>    <td>-2.5455</td> <td>0.0035</td> <td>-4.346</td>  <td>-0.745</td>  <td>True</td> \n",
       "</tr>\n",
       "</table>"
      ],
      "text/plain": [
       "<class 'statsmodels.iolib.table.SimpleTable'>"
      ]
     },
     "execution_count": 13,
     "metadata": {},
     "output_type": "execute_result"
    }
   ],
   "source": [
    "# multiple comparison test using Tukey's HSD\n",
    "import statsmodels.stats.multicomp as multi\n",
    "tukey = multi.pairwise_tukeyhsd(df.y, df.group, alpha=0.05)\n",
    "tukey.summary()"
   ]
  },
  {
   "cell_type": "code",
   "execution_count": 14,
   "metadata": {},
   "outputs": [
    {
     "data": {
      "text/plain": [
       "1.8005222230290598"
      ]
     },
     "execution_count": 14,
     "metadata": {},
     "output_type": "execute_result"
    }
   ],
   "source": [
    "# the critical hsd is\n",
    "hsd = tukey.q_crit * np.sqrt(res.mse_resid / num_points)\n",
    "hsd"
   ]
  },
  {
   "cell_type": "code",
   "execution_count": 15,
   "metadata": {},
   "outputs": [
    {
     "data": {
      "text/html": [
       "<table class=\"simpletable\">\n",
       "<caption>OLS Regression Results</caption>\n",
       "<tr>\n",
       "  <th>Dep. Variable:</th>            <td>y</td>        <th>  R-squared:         </th> <td>   0.169</td>\n",
       "</tr>\n",
       "<tr>\n",
       "  <th>Model:</th>                   <td>OLS</td>       <th>  Adj. R-squared:    </th> <td>   0.140</td>\n",
       "</tr>\n",
       "<tr>\n",
       "  <th>Method:</th>             <td>Least Squares</td>  <th>  F-statistic:       </th> <td>   5.792</td>\n",
       "</tr>\n",
       "<tr>\n",
       "  <th>Date:</th>             <td>Thu, 30 Mar 2023</td> <th>  Prob (F-statistic):</th>  <td>0.00513</td>\n",
       "</tr>\n",
       "<tr>\n",
       "  <th>Time:</th>                 <td>11:34:59</td>     <th>  Log-Likelihood:    </th> <td> -135.27</td>\n",
       "</tr>\n",
       "<tr>\n",
       "  <th>No. Observations:</th>      <td>    60</td>      <th>  AIC:               </th> <td>   276.5</td>\n",
       "</tr>\n",
       "<tr>\n",
       "  <th>Df Residuals:</th>          <td>    57</td>      <th>  BIC:               </th> <td>   282.8</td>\n",
       "</tr>\n",
       "<tr>\n",
       "  <th>Df Model:</th>              <td>     2</td>      <th>                     </th>     <td> </td>   \n",
       "</tr>\n",
       "<tr>\n",
       "  <th>Covariance Type:</th>      <td>nonrobust</td>    <th>                     </th>     <td> </td>   \n",
       "</tr>\n",
       "</table>\n",
       "<table class=\"simpletable\">\n",
       "<tr>\n",
       "      <td></td>         <th>coef</th>     <th>std err</th>      <th>t</th>      <th>P>|t|</th>  <th>[0.025</th>    <th>0.975]</th>  \n",
       "</tr>\n",
       "<tr>\n",
       "  <th>Intercept</th> <td>   15.2288</td> <td>    0.529</td> <td>   28.784</td> <td> 0.000</td> <td>   14.169</td> <td>   16.288</td>\n",
       "</tr>\n",
       "<tr>\n",
       "  <th>group_b</th>   <td>    1.2088</td> <td>    0.748</td> <td>    1.616</td> <td> 0.112</td> <td>   -0.289</td> <td>    2.707</td>\n",
       "</tr>\n",
       "<tr>\n",
       "  <th>group_c</th>   <td>   -1.3367</td> <td>    0.748</td> <td>   -1.787</td> <td> 0.079</td> <td>   -2.835</td> <td>    0.162</td>\n",
       "</tr>\n",
       "</table>\n",
       "<table class=\"simpletable\">\n",
       "<tr>\n",
       "  <th>Omnibus:</th>       <td> 1.813</td> <th>  Durbin-Watson:     </th> <td>   1.897</td>\n",
       "</tr>\n",
       "<tr>\n",
       "  <th>Prob(Omnibus):</th> <td> 0.404</td> <th>  Jarque-Bera (JB):  </th> <td>   1.306</td>\n",
       "</tr>\n",
       "<tr>\n",
       "  <th>Skew:</th>          <td>-0.110</td> <th>  Prob(JB):          </th> <td>   0.520</td>\n",
       "</tr>\n",
       "<tr>\n",
       "  <th>Kurtosis:</th>      <td> 2.311</td> <th>  Cond. No.          </th> <td>    3.73</td>\n",
       "</tr>\n",
       "</table><br/><br/>Notes:<br/>[1] Standard Errors assume that the covariance matrix of the errors is correctly specified."
      ],
      "text/plain": [
       "<class 'statsmodels.iolib.summary.Summary'>\n",
       "\"\"\"\n",
       "                            OLS Regression Results                            \n",
       "==============================================================================\n",
       "Dep. Variable:                      y   R-squared:                       0.169\n",
       "Model:                            OLS   Adj. R-squared:                  0.140\n",
       "Method:                 Least Squares   F-statistic:                     5.792\n",
       "Date:                Thu, 30 Mar 2023   Prob (F-statistic):            0.00513\n",
       "Time:                        11:34:59   Log-Likelihood:                -135.27\n",
       "No. Observations:                  60   AIC:                             276.5\n",
       "Df Residuals:                      57   BIC:                             282.8\n",
       "Df Model:                           2                                         \n",
       "Covariance Type:            nonrobust                                         \n",
       "==============================================================================\n",
       "                 coef    std err          t      P>|t|      [0.025      0.975]\n",
       "------------------------------------------------------------------------------\n",
       "Intercept     15.2288      0.529     28.784      0.000      14.169      16.288\n",
       "group_b        1.2088      0.748      1.616      0.112      -0.289       2.707\n",
       "group_c       -1.3367      0.748     -1.787      0.079      -2.835       0.162\n",
       "==============================================================================\n",
       "Omnibus:                        1.813   Durbin-Watson:                   1.897\n",
       "Prob(Omnibus):                  0.404   Jarque-Bera (JB):                1.306\n",
       "Skew:                          -0.110   Prob(JB):                        0.520\n",
       "Kurtosis:                       2.311   Cond. No.                         3.73\n",
       "==============================================================================\n",
       "\n",
       "Notes:\n",
       "[1] Standard Errors assume that the covariance matrix of the errors is correctly specified.\n",
       "\"\"\""
      ]
     },
     "execution_count": 15,
     "metadata": {},
     "output_type": "execute_result"
    }
   ],
   "source": [
    "res.summary()"
   ]
  },
  {
   "cell_type": "markdown",
   "metadata": {},
   "source": [
    "## 4.2. MANOVA"
   ]
  },
  {
   "cell_type": "code",
   "execution_count": null,
   "metadata": {},
   "outputs": [],
   "source": []
  },
  {
   "cell_type": "markdown",
   "metadata": {},
   "source": [
    "## 4.3. ANCOVA"
   ]
  },
  {
   "cell_type": "code",
   "execution_count": null,
   "metadata": {},
   "outputs": [],
   "source": []
  }
 ],
 "metadata": {
  "kernelspec": {
   "display_name": "base",
   "language": "python",
   "name": "python3"
  },
  "language_info": {
   "codemirror_mode": {
    "name": "ipython",
    "version": 3
   },
   "file_extension": ".py",
   "mimetype": "text/x-python",
   "name": "python",
   "nbconvert_exporter": "python",
   "pygments_lexer": "ipython3",
   "version": "3.9.13"
  },
  "orig_nbformat": 4
 },
 "nbformat": 4,
 "nbformat_minor": 2
}
