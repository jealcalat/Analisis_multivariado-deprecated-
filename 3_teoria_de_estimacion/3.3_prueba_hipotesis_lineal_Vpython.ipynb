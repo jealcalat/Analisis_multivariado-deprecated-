{
 "cells": [
  {
   "cell_type": "markdown",
   "metadata": {},
   "source": [
    "# 3 Teoría de la estimación\n",
    "## 3.3 Prueba de hipótesis lineal (regresión lineal)\n",
    "\n",
    "<p align=\"right\">\n",
    "Autor: Emmanuel Alcalá\n",
    "<br>\n",
    "<a href=\"https://scholar.google.com.mx/citations?hl=en&user=3URusCgAAAAJ&view_op=list_works&sortby=pubdate\">Google Scholar</a>\n",
    "</p>\n",
    "\n",
    "<p align=\"left\">\n",
    "<br>\n",
    "<a href=\"https://jealcalat.github.io/Analisis_multivariado/\">Regresar a la página del curso</a>\n",
    "</p>\n",
    "\n",
    "---"
   ]
  },
  {
   "attachments": {},
   "cell_type": "markdown",
   "metadata": {},
   "source": [
    "La hipótesis lineal es un concepto estadístico que establece que la media (promedio) de una observación aleatoria se puede escribir como una combinación lineal de algunas variables predictoras observadas. Por ejemplo, si tenemos una variable dependiente $y$ y variables predictoras $x_1$, una hipótesis lineal establecería que para algunos números desconocidos (parámetros) $\\beta_0, \\beta_1$:\n",
    "\n",
    "$$y = \\beta_0 + \\beta_1 x + \\epsilon$$\n",
    "\n",
    "donde $y$ es la variable de respuesta (resultado, variable predicha, etc), $x$ es la variable predictora, $\\beta_0$ es la intersección, $\\beta_1$ es la pendiente y $\\epsilon$ es el término de error. La hipótesis lineal prueba si el coeficiente de pendiente $\\beta_1$ es significativamente diferente de cero, lo que indica que existe una relación lineal entre el predictor y las variables de resultado.\n",
    "\n",
    "Asumiendo que $\\epsilon$ sigue una distribución normal con media de 0 y desviación estándar $\\sigma$, tomando la esperanza de ambos lados de la ecuación da:\n",
    "\n",
    "$$\\text{E}(y) = \\text{E}(\\beta_0 + \\beta_1 x + \\epsilon)$$\n",
    "\n",
    "Por linealidad de la expectativa, podemos escribir:\n",
    "\n",
    "$$\\text{E}(y) = \\text{E}(\\beta_0) + \\text{E}(\\beta_1 x) + \\text{E}(\\epsilon)$$\n",
    "\n",
    "Dado que $\\beta_0$ y $\\beta_1$ son constantes, podemos tratarlos como valores conocidos y sus expectativas son simplemente sus valores:\n",
    "\n",
    "$\\text{E}(y) = \\beta_0 + \\beta_1 \\text{E}(x) + \\text{E}(\\epsilon)$\n",
    "\n",
    "Dado que asumimos que el término de error $\\epsilon$ tiene una distribución normal con media cero, sabemos que $\\text{E}(\\epsilon) = 0$. Por lo tanto, podemos simplificar la ecuación a:\n",
    "\n",
    "$\\text{E}(y) = \\beta_0 + \\beta_1 \\text{E}(x)$\n",
    "\n",
    "Esta ecuación representa el valor esperado de la variable de resultado $y$, dado un valor específico de la variable predictora $x$. Muestra que el valor esperado de $y$ es una función lineal de $x$, con intersección $\\beta_0$ y pendiente $\\beta_1$.\n",
    "\n",
    "Tener en cuenta que esta ecuación asume que la variable predictora $x$ es fija y no aleatoria. Si $x$ es una variable aleatoria, necesitaríamos tomar la expectativa de ambos lados de la ecuación usando la distribución apropiada de $x$."
   ]
  },
  {
   "cell_type": "code",
   "execution_count": 3,
   "metadata": {},
   "outputs": [],
   "source": [
    "# %% Import libraries\n",
    "from sklearn.linear_model import LinearRegression  # minimos cuadrados\n",
    "import numpy as np\n",
    "import matplotlib.pyplot as plt\n",
    "from scipy.optimize import minimize  # para minimizar -log-vero\n",
    "import statsmodels.api as sm\n",
    "import pandas as pd"
   ]
  },
  {
   "attachments": {},
   "cell_type": "markdown",
   "metadata": {},
   "source": [
    "El modelo lineal es de la forma\n",
    "\n",
    "$$\n",
    "  y = \\beta_0 + \\beta_1 x\n",
    "$$\n",
    "\n",
    "Considerar que el anterior modelo es el proceso generador. Con datos observados, asumimos que el modelo tiene un error de medición $\\epsilon_i$\n",
    "\n",
    "$$\n",
    "  y_1 = \\beta_0 + \\beta_1 x_i + \\epsilon_i,\\quad \\text{ con } \\epsilon_i \\sim \\text{Normal}(0, \\sigma)\n",
    "$$\n",
    "\n",
    "la asunción de que los errores se distribuyen según una variable aleatoria normal con media de 0 y desviación estándar $\\sigma$ nos permite usar el método de MLE para obtener estimadores de los parámetros $\\beta_0$ y $\\beta_1$. Si\n",
    "\n",
    "$$\n",
    "  \\epsilon_i \\sim \\text{Normal}(0, \\sigma)\n",
    "$$\n",
    "\n",
    "y\n",
    "\n",
    "$$\n",
    "  \\epsilon_i = y_i - (\\beta_0 + \\beta_1 x_i)\n",
    "$$\n",
    "\n",
    "Entonces\n",
    "\n",
    "$$\n",
    "  y_i - (\\beta_0 + \\beta_1 x_i) \\sim \\text{Normal}(0, \\sigma)\n",
    "$$\n"
   ]
  },
  {
   "cell_type": "code",
   "execution_count": 4,
   "metadata": {},
   "outputs": [],
   "source": [
    "\n",
    "# Define the linear model\n",
    "\n",
    "def linear_model(x, b0, b1):\n",
    "    # The linear model takes the x values, and returns the predicted y values\n",
    "    # It does this by multiplying the slope by the x value and adding it to the intercept\n",
    "    return b0 + b1 * x\n",
    "\n",
    "def neg_log_likelihood(params, x):\n",
    "    # assign the parameters\n",
    "    # The parameters are the slope, intercept, and sigma\n",
    "    intercept = params[0]\n",
    "    slope = params[1]\n",
    "    sigma = params[2]\n",
    "\n",
    "    # Compute the predicted values\n",
    "    # The predicted values are the y values that the linear model predicts\n",
    "    y_pred = linear_model(x, intercept, slope)\n",
    "\n",
    "    # Compute the negative log-likelihood of the normal.\n",
    "    # beware we're using the log transformation of the normal\n",
    "    # The negative log-likelihood of the normal is the negative log of the normal distribution\n",
    "    nll = -np.sum(np.log(1 / (np.sqrt(2 * np.pi) * sigma)) -\n",
    "                  0.5 * ((y - y_pred) / sigma)**2)\n",
    "\n",
    "    return nll\n"
   ]
  },
  {
   "cell_type": "code",
   "execution_count": 5,
   "metadata": {},
   "outputs": [
    {
     "data": {
      "image/png": "[encoded data removed]",
      "text/plain": [
       "<Figure size 640x480 with 1 Axes>"
      ]
     },
     "metadata": {},
     "output_type": "display_data"
    }
   ],
   "source": [
    "# Generate some data for simple linear regression\n",
    "np.random.seed(0)\n",
    "num_samples = 100\n",
    "x = np.linspace(0, 10, num_samples)\n",
    "sigma = 1\n",
    "b0_real = 3\n",
    "b1_real = 2\n",
    "epsilon = np.random.normal(0, sigma, num_samples)\n",
    "y = b0_real + b1_real * x + epsilon\n",
    "\n",
    "# Plot the data\n",
    "plt.scatter(x, y)\n",
    "plt.xlabel('x')\n",
    "plt.ylabel('y')\n",
    "plt.show()"
   ]
  },
  {
   "cell_type": "code",
   "execution_count": 6,
   "metadata": {},
   "outputs": [
    {
     "name": "stdout",
     "output_type": "stream",
     "text": [
      "Estimates: \n",
      "----------------------------\n",
      "Intercept: 3.21\n",
      "Slope: 1.97\n",
      "Sigma: 1.00\n",
      "Mean of epsilon_hat: -4.952848\n"
     ]
    }
   ],
   "source": [
    "# Initialize parameters\n",
    "b0 = 0  # valores iniciales para la funcion minimze\n",
    "b1 = 0\n",
    "sigma = 1\n",
    "\n",
    "# Run the minimization algorithm\n",
    "# segungo argumento de minimize son los parametros iniciales\n",
    "\n",
    "result = minimize(neg_log_likelihood, [b0, b1, sigma], args=(x,),\n",
    "                  method='Nelder-Mead',\n",
    "                  bounds=[(None, None), (None, None), (0, None)])\n",
    "\n",
    "residuales = y - result.x[1] - result.x[0] * x\n",
    "\n",
    "# Print the optimal parameters and the minimum negative log-likelihood\n",
    "print(\"Estimates: \")\n",
    "print(\"----------------------------\")\n",
    "print(\"Intercept: %0.2f\\nSlope: %0.2f\\nSigma: %0.2f\\nMean of epsilon_hat: %0.6f\" %\n",
    "      (result.x[0], result.x[1], result.x[2], np.mean(residuales)))"
   ]
  },
  {
   "attachments": {},
   "cell_type": "markdown",
   "metadata": {},
   "source": [
    "## Inferencia sobre los parámetros\n",
    "\n",
    "Ahora veremos cómo estimar la variabilidad y poder hacer algunas inferencias sobre ello. Usualmente, estos valores se obtienen asumiendo una distribución específica. En jerga estadística, se diría que una distribución límite. Sin embargo, podemos usar un método no paramétrico llamado bootstrapping para estimar la variabilidad de los parámetros.\n",
    "\n",
    "Pero primero, ¿por qué es necesario estimar la variabilidad?  Por lo siguiente:\n",
    "\n",
    "Con base en una sola muestra, podemos ver en la simulación anterior que los valores *reales* (que podemos decir que son los valores de la población) son cercanos, pero no idénticos, a los valores estimados.\n",
    "\n",
    "\\begin{align*}\n",
    "& &\\text{ parámetros }\\\\\n",
    "&\\beta_0 &= 3;\\ \\beta_1 &= 2\\\\\n",
    "&& \\text{ estimadores }\\\\ \n",
    "&\\hat{\\beta_0} &= 3.21;\\ \\hat{\\beta_1} &= 1.97\n",
    "\\end{align*}\n",
    "\n",
    "Este *error* se considera un error de muestreo. Si repitiéramos el proceso de tomar una muestra, ajustar el modelo, obtener los parámetros, volver a tomar una muestra, etc., obtendríamos una distribución de los estimadores (llamada, justamente, la distribución muestral del estimador). Si repetimos el proceso un número de veces muy grande, la media de la distribución muestral del estimador es igual al estimador del parámetro."
   ]
  },
  {
   "cell_type": "code",
   "execution_count": 7,
   "metadata": {},
   "outputs": [
    {
     "name": "stderr",
     "output_type": "stream",
     "text": [
      "/tmp/ipykernel_5362/2592438919.py:22: RuntimeWarning: divide by zero encountered in double_scalars\n",
      "  nll = -np.sum(np.log(1 / (np.sqrt(2 * np.pi) * sigma)) -\n",
      "/tmp/ipykernel_5362/2592438919.py:23: RuntimeWarning: divide by zero encountered in true_divide\n",
      "  0.5 * ((y - y_pred) / sigma)**2)\n",
      "/tmp/ipykernel_5362/2592438919.py:22: RuntimeWarning: invalid value encountered in subtract\n",
      "  nll = -np.sum(np.log(1 / (np.sqrt(2 * np.pi) * sigma)) -\n"
     ]
    },
    {
     "data": {
      "text/plain": [
       "2.003600888040519"
      ]
     },
     "execution_count": 7,
     "metadata": {},
     "output_type": "execute_result"
    }
   ],
   "source": [
    "# simularemos el proceso de obtener n_sims muestras de la población, y\n",
    "# por cada muestra obtendremos los estimadores. Solo para mostrar el concepto\n",
    "# guardaremos únicamente el slope y obtendremos su media\n",
    "n_sims = 500\n",
    "\n",
    "slopes = []\n",
    "for i in range(n_sims):\n",
    "  # Generar una muestra\n",
    "  num_samples = 100\n",
    "  x = np.linspace(0, 10, num_samples)\n",
    "  sigma = 1\n",
    "  b0_real = 3\n",
    "  b1_real = 2\n",
    "  epsilon = np.random.normal(0, sigma, num_samples)\n",
    "  y = b0_real + b1_real * x + epsilon\n",
    "  # obtener los parámetros\n",
    "  b0 = 0  # valores iniciales para la funcion minimze\n",
    "  b1 = 0\n",
    "  sigma = 1\n",
    "  result = minimize(neg_log_likelihood, [b0, b1, sigma], args=(x,),\n",
    "                    method='Nelder-Mead',\n",
    "                    bounds=[(None, None), (None, None), (0, None)])\n",
    "\n",
    "  slopes.append(result.x[1])\n",
    "\n",
    "# la media debe ser más próxima al parámetro real\n",
    "np.mean(slopes)"
   ]
  },
  {
   "cell_type": "code",
   "execution_count": 8,
   "metadata": {},
   "outputs": [
    {
     "data": {
      "text/plain": [
       "<matplotlib.lines.Line2D at 0x7f00e6946760>"
      ]
     },
     "execution_count": 8,
     "metadata": {},
     "output_type": "execute_result"
    },
    {
     "data": {
      "image/png": "[encoded data removed]",
      "text/plain": [
       "<Figure size 640x480 with 1 Axes>"
      ]
     },
     "metadata": {},
     "output_type": "display_data"
    }
   ],
   "source": [
    "# podemos obtener un histograma de las medias para visualizar qué tan frecuentemente\n",
    "# encontramos un estimador próximo al estimador real\n",
    "plt.hist(slopes, bins=90);\n",
    "plt.axvline(x=b1_real, c='r')"
   ]
  },
  {
   "attachments": {},
   "cell_type": "markdown",
   "metadata": {},
   "source": [
    "El anterior proceso nos permite entender que la estimación de parámetros no sucede sin errores. Por lo tanto, existe cierta incertidumbre, que llamamos variabilidad en la estimación.\n",
    "\n",
    "Los métodos usuales para estimar la variabilidad se basan en teoría asintótica, la teoría estadística que nos permite aproximar una distribución con, por ejemplo, una distribución normal. Según esta teoría asintótica, el error estándar. En el contexto de la regresión lineal simple, el error estándar mide la precisión del coeficiente de pendiente estimado. Refleja el grado de variabilidad de las estimaciones de pendiente que se obtendrían si el mismo modelo de regresión se ajustara a diferentes muestras de la misma población. Usualmente se computa con la siguiente fórmula\n",
    "\n",
    "$$\n",
    "  SE(\\hat{\\beta}_1) = \\sqrt{ (MSE) / ((n-1) * Var(x)) }\n",
    "$$\n",
    "\n",
    "La derivación de esta fórmula se basa en la suposición de que los errores (es decir, las diferencias entre los valores observados de la variable de resultado y los valores pronosticados según el modelo de regresión) se distribuyen normalmente con media cero y varianza constante (es decir, homocedasticidad). Bajo estos supuestos, el estimador de la pendiente es un estimador insesgado de la pendiente verdadera, y su distribución muestral se aproxima a una distribución normal a medida que aumenta el tamaño de la muestra.\n",
    "\n",
    "El error estándar se puede usar para obtener estimadores del intervalo de confianza. Un intervalo de confianza para la pendiente en una regresión lineal simple es un rango de valores plausibles para la pendiente real en función de la pendiente estimada y su error estándar. Proporciona una medida de la incertidumbre asociada con la estimación de la pendiente y puede ayudarnos a determinar si la relación entre el predictor y las variables de resultado es estadísticamente significativa.\n",
    "\n",
    "Un intervalo de confianza al $(1-\\alpha)$ de probabilidad se calcula sobre un rango de valores. Por ejemplo, si tenemos el rango $[a,b]$, un IC al 95% es un rango tal que la probabilidad de encontrar el valor real del parámetro es del 0.95, es decir\n",
    "\n",
    "$$\n",
    "  p(\\beta_1 \\in [a, b]) = 0.95\n",
    "$$\n",
    "\n",
    "\n",
    "\n",
    "Tomar en cuenta que si no se cumplen los supuestos de normalidad y homocedasticidad, es posible que el error estándar no sea preciso y que se utilicen métodos alternativos, como el bootstrapping, para estimar el error estándar. \n",
    "\n",
    "Bootstrapping es una técnica estadística para estimar la variabilidad de un estadístico (como la media o el error estándar) mediante el remuestreo de los datos originales. Es un método no paramétrico que no se basa en hacer suposiciones sobre la distribución subyacente de los datos.\n",
    "En bootstrapping, creamos una gran cantidad de remuestreos mediante muestreo aleatorio del conjunto de datos original con reemplazo. Luego calculamos la estadística de interés (por ejemplo, la media o el error estándar) para cada nueva muestra y usamos la distribución resultante de estas estadísticas para estimar la variabilidad de la estadística.\n",
    "\n",
    "Usaremos esta técnica para estimar el el error estándar, luego también un intervalo de confianza e inferir algo sobre la pendiente. También usaremos la hipótesis nula de que la pendiente es cero para probar si la pendiente es estadísticamente significativa (una pendiente de 0 significa que no existe una relación lineal entre las variables $x, y$). Para esto, restaremos la media de la distribución de los coeficientes de pendiente obtenidos mediante la técnica de bootstrapping, esto nos dará una distribución centrada en cero, que llamaremos la distribución nula de los coeficientes de pendiente. Esto es así porque se espera que, bajo la hipótesis nula, la pendiente debería tener su centro en 0.\n",
    "\n",
    "Luego, calcularemos el valor $p$ para la pendiente estimada, que es la probabilidad (que aquí obtenemos como la proporción de casos) de obtener un valor tan grande o más grande de la pendiente estimada bajo la hipótesis nula de que la pendiente es cero. \n",
    "\n",
    "$H_0: \\beta = 0$\n",
    "\n",
    "Si el valor $p$ es menor que el nivel de significancia, podemos rechazar la hipótesis nula de que la pendiente es cero y concluir que la pendiente es estadísticamente significativa. En otras palabras, estimamos la probabilidad de que la pendiente sea 0 *bajo la hipótesis nula*. Si esta probabilidad es muy baja, tenemos evidencia de que la pendiente no es 0. Definiendo un umbral de decisión (e.g., 0.05), decidimos que la pendiente es estadísticamente significativa si el valor $p$ es menor que el umbral de decisión, es decir, si $p$ < 0.05.\n",
    "\n",
    "En estadística, el nivel de significación (a menudo denominado $\\alpha$) es un umbral que se utiliza para determinar si los resultados de una prueba estadística o un intervalo de confianza son estadísticamente significativos o no.\n"
   ]
  },
  {
   "cell_type": "code",
   "execution_count": 40,
   "metadata": {},
   "outputs": [
    {
     "name": "stdout",
     "output_type": "stream",
     "text": [
      "Standard error of slope: 0.15\n",
      "95% confidence interval of slope: [1.41 1.99]\n",
      "P-value of the slope: 0.0\n"
     ]
    }
   ],
   "source": [
    "# Este código realiza una regresión lineal en un conjunto de datos y luego realiza un remuestreo con bootstrapping en los datos para encontrar un valor p para la pendiente de regresión.\n",
    "# El código usa una función para realizar el remuestreo y la regresión.\n",
    "# La función se llama en un bucle for para realizar 1000 remuestreos.\n",
    "# Las pendientes de las nuevas muestras se trazan en un histograma.\n",
    "# El valor p se calcula dividiendo el número de pendientes que son mayores que la pendiente real o menores que la pendiente real entre el número total de pendientes.\n",
    "# El error estándar de la pendiente se calcula tomando la desviación estándar de las pendientes.\n",
    "# El intervalo de confianza del 95% de la pendiente se calcula tomando los percentiles de las pendientes.\n",
    "\n",
    "from sklearn.linear_model import LinearRegression\n",
    "np.random.seed(0)\n",
    "num_samples = 100\n",
    "x = np.linspace(0, 10, num_samples)\n",
    "sigma = 1\n",
    "b0_real = 3\n",
    "b1_real = 2\n",
    "# probar con una distribución exponencial con lambda = 5\n",
    "# en principio, incluso si el error no es normal, el método de bootstrapping\n",
    "# debería funcionar\n",
    "epsilon = np.random.exponential(5, num_samples)\n",
    "y = b0_real + b1_real * x + epsilon\n",
    "\n",
    "\n",
    "# fit a simple linear regression model\n",
    "model = LinearRegression()\n",
    "# ajuster el modelo, con reshape(-1, 1) se ajusta a un array 2D de 1 columna\n",
    "model.fit(x.reshape(-1, 1), y)\n",
    "residuales = y - model.predict(x.reshape(-1, 1))\n",
    "# Define a function to perform bootstrap resampling and fit a regression model\n",
    "def bootstrap_regression(data):\n",
    "    sample = data.sample(frac=1, replace=True)\n",
    "    X = sample[['x']]\n",
    "    y = sample['y']\n",
    "    model = LinearRegression()\n",
    "    model.fit(X, y)\n",
    "    return model.coef_[0]\n",
    "\n",
    "# Resample the data and compute the p-value\n",
    "data = pd.DataFrame({'x': x, 'y': y})\n",
    "n_bootstraps = 1500 # R\n",
    "slopes = np.empty(n_bootstraps)\n",
    "for i in range(n_bootstraps):\n",
    "    slopes[i] = bootstrap_regression(data)\n",
    "\n",
    "# obtain the null distribution of slopes, centered at 0\n",
    "null_slopes = slopes - np.mean(slopes)\n",
    "# calculate the p-value as the proportion of null slopes that are greater than or \n",
    "# less than the actual slope, which we obtained with the original data\n",
    "p_value = (np.sum(null_slopes >= model.coef_[0]) + np.sum(null_slopes <= -model.coef_[0])) / len(null_slopes)\n",
    "\n",
    "beta_1_hat = result.x[1]\n",
    "se = np.std(slopes)\n",
    "print('Standard error of slope:', se.round(2))\n",
    "\n",
    "# calculate the 95% confidence interval of the slope\n",
    "ci = np.percentile(slopes, [2.5, 97.5])\n",
    "print('95% confidence interval of slope:', ci.round(2))\n",
    "print('P-value of the slope:', p_value)"
   ]
  },
  {
   "cell_type": "code",
   "execution_count": null,
   "metadata": {},
   "outputs": [],
   "source": []
  },
  {
   "attachments": {},
   "cell_type": "markdown",
   "metadata": {},
   "source": [
    "El intervalo de confianza *paramétrico*, es decir, asumiendo que los errores se distribuyen normalmente, se puede obtener estimando el error estándar como se mencionó antes. Se calcularía como\n",
    "\n",
    "$$\n",
    "  \\hat{\\beta}_1 \\pm t_{n-2, 1-\\alpha/2} * SE(\\hat{\\beta}_1)\n",
    "$$\n",
    "\n",
    "En donde $t_{n-2, 1-\\alpha/2}$ es el valor crítico de la distribución t de Student con $n-2$ grados de libertad y un nivel de significancia de $\\alpha/2$. Se usan los grados de libertad $n-2$ porque se estima la pendiente y la intersección con el eje $y$.\n",
    "\n",
    "En Python, el valor crítico se puede obtener con la función `stats.t.ppf` de la librería `scipy.stats`.\n",
    "```python\n",
    "from scipy.stats import t\n",
    "\n",
    "t.ppf(1-0.025, df=n-2)\n",
    "```\n",
    "\n",
    "El error estándar de la pendiente estimada se puede obtener con la función `stats.linregress` de la librería `scipy.stats`.\n",
    "```python\n",
    "from scipy.stats import linregress\n",
    "linregress(x, y).stderr\n",
    "```\n",
    "\n",
    "O bien, usando el MSE y la varianza de $x$.\n",
    "```python\n",
    "np.sqrt(MSE / ((n-1) * np.var(x)))\n",
    "```\n",
    "\n",
    "Y el MSE se obtiene con los residuales.\n",
    "```python\n",
    "residuals = y - y_pred\n",
    "MSE = np.mean(residuals**2)\n",
    "```\n",
    "\n",
    "La prueba de normalidad para los residuales se puede hacer con la función `stats.normaltest` de la librería `scipy.stats`.\n",
    "```python\n",
    "from scipy.stats import normaltest\n",
    "normaltest(residuals)\n",
    "```\n",
    "\n",
    "Si el valor p de la prueba de normalidad es menor que el nivel de significancia, se rechaza la hipótesis nula de que los residuales se distribuyen normalmente. Es decir, los residuales no se distribuyen normalmente. Sabemos que esto es así porque simulamos el error epsilon con una distribución exponencial."
   ]
  },
  {
   "cell_type": "code",
   "execution_count": 57,
   "metadata": {},
   "outputs": [
    {
     "name": "stdout",
     "output_type": "stream",
     "text": [
      "95% confidence interval of slope: [1.68 2.31]\n",
      "se_b1 manual:  0.16\n",
      "se con linregress:  0.16\n",
      "P-value of the normality test: 0.0\n"
     ]
    }
   ],
   "source": [
    "from scipy.stats import normaltest\n",
    "from scipy.stats import t\n",
    "from scipy.stats import linregress\n",
    "\n",
    "# num_samples es el número de observaciones en la muestra en nuestra anterior\n",
    "# simulación\n",
    "num_samples = 100\n",
    "\n",
    "t_crit = t.ppf(1-0.025, df=num_samples-2)\n",
    "MSE = np.sum(residuales**2) / (num_samples - 2)\n",
    "se_b1 = np.sqrt(MSE / np.sum((x - np.mean(x))**2))\n",
    "# calculamos los límites del intervalo de confianza\n",
    "ci_95 = [beta_1_hat - t_crit * se_b1, beta_1_hat + t_crit * se_b1]\n",
    "print('95% confidence interval of slope:', np.round(ci_95,2))\n",
    "print(\"se_b1 manual: \", se_b1.round(2))\n",
    "print(\"se con linregress: \", linregress(x, y)[4].round(2))\n",
    "print('P-value of the normality test:', normaltest(residuales)[1].round(6))"
   ]
  },
  {
   "attachments": {},
   "cell_type": "markdown",
   "metadata": {},
   "source": [
    "Notar que el intervalo de confianza paramétrico es diferente al intervalo no paramétrico."
   ]
  },
  {
   "cell_type": "code",
   "execution_count": 39,
   "metadata": {},
   "outputs": [
    {
     "data": {
      "text/plain": [
       "<matplotlib.lines.Line2D at 0x7f00d53bb2e0>"
      ]
     },
     "execution_count": 39,
     "metadata": {},
     "output_type": "execute_result"
    },
    {
     "data": {
      "image/png": "[encoded data removed]",
      "text/plain": [
       "<Figure size 1200x400 with 2 Axes>"
      ]
     },
     "metadata": {},
     "output_type": "display_data"
    }
   ],
   "source": [
    "# haremos un gráfico de dos paneles con subplots\n",
    "fig, (ax1, ax2) = plt.subplots(1, 2, figsize=(12, 4))\n",
    "ax1.hist(slopes, bins=90);\n",
    "ax1.axvline(x=b1_real, c='r')\n",
    "ax1.axvline(model.coef_[0], 0, c='k')\n",
    "ax2.hist(residuales, bins=90);\n",
    "ax2.axvline(np.mean(residuales), c='r')"
   ]
  },
  {
   "attachments": {},
   "cell_type": "markdown",
   "metadata": {},
   "source": [
    "Si el intervalo de confianza no contiene al 0, podemos concluir que la hipótesis nula es falsa."
   ]
  },
  {
   "cell_type": "code",
   "execution_count": 11,
   "metadata": {},
   "outputs": [
    {
     "data": {
      "image/png": "[encoded data removed]",
      "text/plain": [
       "<Figure size 640x480 with 1 Axes>"
      ]
     },
     "metadata": {},
     "output_type": "display_data"
    }
   ],
   "source": [
    "# function that plots the null distribution and the actual slope on the histogram \n",
    "def plot_null_distribution(slopes, slope):\n",
    "    # generate a histogram of the null distribution \n",
    "    plt.hist(slopes, bins=25, density=True)\n",
    "    \n",
    "    # plot the actual slope on the histogram \n",
    "    plt.axvline(x=slope, color='red', linewidth=1)\n",
    "    \n",
    "    # label the axes and show the plot \n",
    "    plt.xlabel('Slope under the null')\n",
    "    plt.ylabel('PDF')\n",
    "    plt.title('Null distribution of slope')\n",
    "    # put a label on the actual slope\n",
    "    plt.text(slope*1.01, 0.5, f'Actual slope:{model.coef_[0].round(2)}', rotation=90, color='red')\n",
    "    plt.show()\n",
    "    \n",
    "plot_null_distribution(null_slopes, model.coef_[0])\n"
   ]
  },
  {
   "attachments": {},
   "cell_type": "markdown",
   "metadata": {},
   "source": [
    "En el gráfico anterior, podemos ver que el verdadero valor de la pendiente está muy alejado del centro de la distribución nula. Es decir, bajo la hipótesis nula de que la pendiente es cero, *es muy raro* observar un valor como el observado. \n",
    "\n"
   ]
  },
  {
   "attachments": {},
   "cell_type": "markdown",
   "metadata": {},
   "source": [
    "Para el error estándar, su valor es simplemente la desviación estándar de las pendientes obtenidas por remuestreo.\n",
    "\n",
    "Para el intervalo de confianza, calculamos los percentiles 2.5 y 97.5 de la distribución resultante de los coeficientes de pendiente para obtener el intervalo de confianza del 95 % para la pendiente. Si el intervalo *no contiene al 0*, se puede inferir que la pendiente no es 0 al 95% de confianza."
   ]
  },
  {
   "attachments": {},
   "cell_type": "markdown",
   "metadata": {},
   "source": [
    "## Regresión lineal múltiple\n",
    "\n",
    "La regresión lineal múltiple es una extensión de la regresión lineal simple. En lugar de ajustar una línea recta a los datos, ajustamos una hiperplano. En la regresión lineal múltiple, la variable de respuesta es continua y hay más de una variable predictora. En vez de la pendiente, tenemos una matriz de coeficientes de pendiente, y en vez de la intersección, tenemos un término de intersección."
   ]
  },
  {
   "cell_type": "code",
   "execution_count": 12,
   "metadata": {},
   "outputs": [
    {
     "name": "stdout",
     "output_type": "stream",
     "text": [
      "[1.62477719 1.87716588 3.15198967]\n",
      "-0.01701784349774005\n"
     ]
    }
   ],
   "source": [
    "from sklearn.linear_model import LinearRegression\n",
    "import numpy as np\n",
    "\n",
    "# Generate some random data\n",
    "n_samples = 100\n",
    "n_features = 3\n",
    "X = np.random.randn(n_samples, n_features)\n",
    "y = np.dot(X, np.array([1.5, 2, 3])) + np.random.randn(n_samples)\n",
    "\n",
    "# Fit the model\n",
    "model = LinearRegression().fit(X, y)\n",
    "\n",
    "# Print the coefficients\n",
    "print(model.coef_)\n",
    "print(model.intercept_)"
   ]
  },
  {
   "cell_type": "code",
   "execution_count": null,
   "metadata": {},
   "outputs": [],
   "source": [
    "import matplotlib.pyplot as plt\n",
    "\n",
    "def plot_null_distribution(slopes, slope):\n",
    "    # generate a histogram of the null distribution \n",
    "    plt.hist(slopes, bins=25, density=True)\n",
    "    \n",
    "    # plot the actual slope on the histogram \n",
    "    plt.axvline(x=slope, color='red', linewidth=1)\n",
    "    \n",
    "    # label the axes and show the plot \n",
    "    plt.xlabel('Slope under the null')\n",
    "    plt.ylabel('PDF')\n",
    "    plt.title('Null distribution of slope')\n",
    "    # put a label on the actual slope\n",
    "    plt.text(slope*1.01, 0.5, f'Actual slope:{slope}', rotation=90, color='red')\n",
    "    plt.show()\n"
   ]
  }
 ],
 "metadata": {
  "kernelspec": {
   "display_name": "base",
   "language": "python",
   "name": "python3"
  },
  "language_info": {
   "codemirror_mode": {
    "name": "ipython",
    "version": 3
   },
   "file_extension": ".py",
   "mimetype": "text/x-python",
   "name": "python",
   "nbconvert_exporter": "python",
   "pygments_lexer": "ipython3",
   "version": "3.9.16"
  },
  "orig_nbformat": 4,
  "vscode": {
   "interpreter": {
    "hash": "250f9a87e4fb839d4a665aae3d7395b3ec2b811dfe95dbba6380d56bd4036337"
   }
  }
 },
 "nbformat": 4,
 "nbformat_minor": 2
}
