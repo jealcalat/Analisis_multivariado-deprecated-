{
 "cells": [
  {
   "cell_type": "markdown",
   "metadata": {},
   "source": [
    "# 3 Teoría de la estimación\n",
    "## 3.3 Prueba de hipótesis lineal (regresión lineal)\n",
    "\n",
    "<p align=\"right\">\n",
    "Autor: Emmanuel Alcalá\n",
    "<br>\n",
    "<a href=\"https://scholar.google.com.mx/citations?hl=en&user=3URusCgAAAAJ&view_op=list_works&sortby=pubdate\">Google Scholar</a>\n",
    "</p>\n",
    "\n",
    "<p align=\"left\">\n",
    "<br>\n",
    "<a href=\"https://jealcalat.github.io/Analisis_multivariado/\">Regresar a la página del curso</a>\n",
    "</p>\n",
    "\n",
    "---"
   ]
  },
  {
   "cell_type": "code",
   "execution_count": 21,
   "metadata": {},
   "outputs": [],
   "source": [
    "# %% Import libraries\n",
    "from sklearn.linear_model import LinearRegression  # minimos cuadrados\n",
    "import numpy as np\n",
    "import matplotlib.pyplot as plt\n",
    "from scipy.optimize import minimize  # para minimizar -log-vero\n",
    "import statsmodels.api as sm\n",
    "import pandas as pd"
   ]
  },
  {
   "attachments": {},
   "cell_type": "markdown",
   "metadata": {},
   "source": [
    "El modelo lineal es de la forma\n",
    "\n",
    "$$\n",
    "  y = \\beta_0 + \\beta_1 x\n",
    "$$\n",
    "\n",
    "Considerar que el anterior modelo es el proceso generador. Con datos observados, asumimos que el modelo tiene un error de medición $\\epsilon_i$\n",
    "\n",
    "$$\n",
    "  y_1 = \\beta_0 + \\beta_1 x_i + \\epsilon_i,\\quad \\text{ con } \\epsilon_i \\sim \\text{Normal}(0, \\sigma)\n",
    "$$\n",
    "\n",
    "la asunción de que los errores se distribuyen según una variable aleatoria normal con media de 0 y desviación estándar $\\sigma$ nos permite usar el método de MLE para obtener estimadores de los parámetros $\\beta_0$ y $\\beta_1$. Si\n",
    "\n",
    "$$\n",
    "  \\epsilon_i \\sim \\text{Normal}(0, \\sigma)\n",
    "$$\n",
    "\n",
    "y\n",
    "\n",
    "$$\n",
    "  \\epsilon_i = y_i - (\\beta_0 + \\beta_1 x_i)\n",
    "$$\n",
    "\n",
    "Entonces\n",
    "\n",
    "$$\n",
    "  y_i - (\\beta_0 + \\beta_1 x_i) \\sim \\text{Normal}(0, \\sigma)\n",
    "$$\n"
   ]
  },
  {
   "cell_type": "code",
   "execution_count": 2,
   "metadata": {},
   "outputs": [],
   "source": [
    "# Define the linear model\n",
    "\n",
    "def linear_model(x, b0, b1):\n",
    "    return b0 + b1 * x\n",
    "\n",
    "def neg_log_likelihood(params, x):\n",
    "    # assign the parameters\n",
    "    b0 = params[0]\n",
    "    b1 = params[1]\n",
    "    sigma = params[2]\n",
    "\n",
    "    # Compute the predicted values\n",
    "    y_pred = linear_model(x, b0, b1)\n",
    "\n",
    "    # Compute the negative log-likelihood of the normal.\n",
    "    # beware we're using the log transformation of the normal\n",
    "    nll = -np.sum(np.log(1 / (np.sqrt(2 * np.pi) * sigma)) -\n",
    "                  0.5 * ((y - y_pred) / sigma)**2)\n",
    "\n",
    "    return nll\n"
   ]
  },
  {
   "cell_type": "code",
   "execution_count": 3,
   "metadata": {},
   "outputs": [
    {
     "data": {
      "image/png": "[encoded data removed]",
      "text/plain": [
       "<Figure size 640x480 with 1 Axes>"
      ]
     },
     "metadata": {},
     "output_type": "display_data"
    }
   ],
   "source": [
    "# Generate some data for simple linear regression\n",
    "np.random.seed(0)\n",
    "num_samples = 100\n",
    "x = np.linspace(0, 10, num_samples)\n",
    "sigma = 1\n",
    "b0_real = 3\n",
    "b1_real = 2\n",
    "epsilon = np.random.normal(0, sigma, num_samples)\n",
    "y = b0_real + b1_real * x + epsilon\n",
    "\n",
    "# Plot the data\n",
    "plt.scatter(x, y)\n",
    "plt.xlabel('x')\n",
    "plt.ylabel('y')\n",
    "plt.show()"
   ]
  },
  {
   "cell_type": "code",
   "execution_count": 9,
   "metadata": {},
   "outputs": [
    {
     "name": "stdout",
     "output_type": "stream",
     "text": [
      "Estimates: \n",
      "----------------------------\n",
      "Intercept: 3.21\n",
      "Slope: 1.97\n",
      "Sigma: 1.00\n",
      "Mean of epsilon_hat: 0.000016\n"
     ]
    }
   ],
   "source": [
    "# Initialize parameters\n",
    "b0 = 0  # valores iniciales para la funcion minimze\n",
    "b1 = 0\n",
    "sigma = 1\n",
    "\n",
    "# Run the minimization algorithm\n",
    "# segungo argumento de minimize son los parametros iniciales\n",
    "\n",
    "result = minimize(neg_log_likelihood, [b0, b1, sigma], args=(x,),\n",
    "                  method='Nelder-Mead',\n",
    "                  bounds=[(None, None), (None, None), (0, None)])\n",
    "\n",
    "residuales = y - result.x[0] - result.x[1] * x\n",
    "\n",
    "# Print the optimal parameters and the minimum negative log-likelihood\n",
    "print(\"Estimates: \")\n",
    "print(\"----------------------------\")\n",
    "print(\"Intercept: %0.2f\\nSlope: %0.2f\\nSigma: %0.2f\\nMean of epsilon_hat: %0.6f\" %\n",
    "      (result.x[0], result.x[1], result.x[2], np.mean(residuales)))"
   ]
  },
  {
   "attachments": {},
   "cell_type": "markdown",
   "metadata": {},
   "source": [
    "Ahora veremos cómo estimar la variabilidad y el valor p. Usualmente, estos valores se obtienen asumiendo una distribución específica. En jerga estadística, se diría que una distribución límite. Sin embargo, podemos usar un método no paramétrico llamado bootstrapping para estimar la variabilidad de los parámetros.\n",
    "\n",
    "Pero primero, ¿por qué es necesario estimar la variabilidad?  Por lo siguiente:\n",
    "\n",
    "Con base en una sola muestra, podemos ver en la simulación anterior que los valores *reales* (que podemos decir que son los valores de la población) son cercanos, pero no idénticos, a los valores estimados.\n",
    "\n",
    "\\begin{align*}\n",
    "& &\\text{ parámetros }\\\\\n",
    "&\\beta_0 &= 3;\\ \\beta_1 &= 2\\\\\n",
    "&& \\text{ estimadores }\\\\ \n",
    "&\\hat{\\beta_0} &= 3.21;\\ \\hat{\\beta_1} &= 1.97\n",
    "\\end{align*}\n",
    "\n",
    "Este *error* se considera un error de muestreo. Si repitiéramos el proceso de tomar una muestra, ajustar el modelo, obtener los parámetros, volver a tomar una muestra, etc., obtendríamos una distribución de los estimadores (llamada, justamente, la distribución muestral del estimador). Si repetimos el proceso un número de veces muy grande, la media de la distribución muestral del estimador es igual al estimador del parámetro."
   ]
  },
  {
   "cell_type": "code",
   "execution_count": 12,
   "metadata": {},
   "outputs": [
    {
     "name": "stderr",
     "output_type": "stream",
     "text": [
      "/tmp/ipykernel_574207/1659897754.py:17: RuntimeWarning: divide by zero encountered in double_scalars\n",
      "  nll = -np.sum(np.log(1 / (np.sqrt(2 * np.pi) * sigma)) -\n",
      "/tmp/ipykernel_574207/1659897754.py:18: RuntimeWarning: divide by zero encountered in true_divide\n",
      "  0.5 * ((y - y_pred) / sigma)**2)\n",
      "/tmp/ipykernel_574207/1659897754.py:17: RuntimeWarning: invalid value encountered in subtract\n",
      "  nll = -np.sum(np.log(1 / (np.sqrt(2 * np.pi) * sigma)) -\n"
     ]
    },
    {
     "data": {
      "text/plain": [
       "2.0033418129237774"
      ]
     },
     "execution_count": 12,
     "metadata": {},
     "output_type": "execute_result"
    }
   ],
   "source": [
    "# simularemos el proceso de obtener n_sims muestras de la población, y\n",
    "# por cada muestra obtendremos los estimadores. Solo para mostrar el concepto\n",
    "# guardaremos únicamente el slope y obtendremos su media\n",
    "n_sims = 500\n",
    "\n",
    "slopes = []\n",
    "for i in range(n_sims):\n",
    "  # Generar una muestra\n",
    "  num_samples = 100\n",
    "  x = np.linspace(0, 10, num_samples)\n",
    "  sigma = 1\n",
    "  b0_real = 3\n",
    "  b1_real = 2\n",
    "  epsilon = np.random.normal(0, sigma, num_samples)\n",
    "  y = b0_real + b1_real * x + epsilon\n",
    "  # obtener los parámetros\n",
    "  b0 = 0  # valores iniciales para la funcion minimze\n",
    "  b1 = 0\n",
    "  sigma = 1\n",
    "  result = minimize(neg_log_likelihood, [b0, b1, sigma], args=(x,),\n",
    "                    method='Nelder-Mead',\n",
    "                    bounds=[(None, None), (None, None), (0, None)])\n",
    "\n",
    "  slopes.append(result.x[1])\n",
    "\n",
    "# la media debe ser más próxima al parámetro real\n",
    "np.mean(slopes)"
   ]
  },
  {
   "cell_type": "code",
   "execution_count": 18,
   "metadata": {},
   "outputs": [
    {
     "data": {
      "text/plain": [
       "<matplotlib.lines.Line2D at 0x7efd6f626d90>"
      ]
     },
     "execution_count": 18,
     "metadata": {},
     "output_type": "execute_result"
    },
    {
     "data": {
      "image/png": "[encoded data removed]",
      "text/plain": [
       "<Figure size 640x480 with 1 Axes>"
      ]
     },
     "metadata": {},
     "output_type": "display_data"
    }
   ],
   "source": [
    "# podemos obtener un histograma de las medias para visualizar qué tan frecuentemente\n",
    "# encontramos un estimador próximo al estimador real\n",
    "plt.hist(slopes, bins=90);\n",
    "plt.axvline(x=b1_real, c='r')"
   ]
  },
  {
   "attachments": {},
   "cell_type": "markdown",
   "metadata": {},
   "source": [
    "El anterior proceso nos permite entender que la estimación de parámetros no sucede sin errores. Por lo tanto, existe cierta incertidumbre, que llamamos variabilidad en la estimación.\n",
    "\n",
    "Los métodos usuales para estimar la variabilidad se basan en teoría asintótica, la teoría estadística que nos permite aproximar una distribución con, por ejemplo, una distribución normal. Según esta teoría asintótica, el error estándar. En el contexto de la regresión lineal simple, el error estándar mide la precisión del coeficiente de pendiente estimado. Refleja el grado de variabilidad de las estimaciones de pendiente que se obtendrían si el mismo modelo de regresión se ajustara a diferentes muestras de la misma población. Usualmente se computa con la siguiente fórmula\n",
    "\n",
    "$$\n",
    "  SE(\\hat{\\beta}_1) = \\sqrt{ (MSE) / ((n-1) * Var(x)) }\n",
    "$$\n",
    "\n",
    "La derivación de esta fórmula se basa en la suposición de que los errores (es decir, las diferencias entre los valores observados de la variable de resultado y los valores pronosticados según el modelo de regresión) se distribuyen normalmente con media cero y varianza constante (es decir, homocedasticidad). Bajo estos supuestos, el estimador de la pendiente es un estimador insesgado de la pendiente verdadera, y su distribución muestral se aproxima a una distribución normal a medida que aumenta el tamaño de la muestra.\n",
    "\n",
    "El error estándar se puede usar para obtener estimadores del intervalo de confianza. Un intervalo de confianza para la pendiente en una regresión lineal simple es un rango de valores plausibles para la pendiente real en función de la pendiente estimada y su error estándar. Proporciona una medida de la incertidumbre asociada con la estimación de la pendiente y puede ayudarnos a determinar si la relación entre el predictor y las variables de resultado es estadísticamente significativa.\n",
    "\n",
    "Un intervalo de confianza al $(1-\\alpha)$ de probabilidad se calcula sobre un rango de valores. Por ejemplo, si tenemos el rango $[a,b]$, un IC al 95% es un rango tal que la probabilidad de encontrar el valor real del parámetro es del 0.95, es decir\n",
    "\n",
    "$$\n",
    "  p(\\beta_1 \\in [a, b]) = 0.95\n",
    "$$\n",
    "\n",
    "\n",
    "\n",
    "Tomar en cuenta que si no se cumplen los supuestos de normalidad y homocedasticidad, es posible que el error estándar no sea preciso y que se utilicen métodos alternativos, como el bootstrapping, para estimar el error estándar. \n",
    "\n",
    "Bootstrapping es una técnica estadística para estimar la variabilidad de un estadístico (como la media o el error estándar) mediante el remuestreo de los datos originales. Es un método no paramétrico que no se basa en hacer suposiciones sobre la distribución subyacente de los datos.\n",
    "En bootstrapping, creamos una gran cantidad de remuestreos mediante muestreo aleatorio del conjunto de datos original con reemplazo. Luego calculamos la estadística de interés (por ejemplo, la media o el error estándar) para cada nueva muestra y usamos la distribución resultante de estas estadísticas para estimar la variabilidad de la estadística.\n",
    "\n",
    "Usaremos esta técnica para estimar el el error estándar, luego también un intervalo de confianza e inferir algo sobre la pendiente."
   ]
  },
  {
   "cell_type": "code",
   "execution_count": 39,
   "metadata": {},
   "outputs": [
    {
     "name": "stdout",
     "output_type": "stream",
     "text": [
      "Standard error of slope: 0.04\n",
      "95% confidence interval of slope: [1.9  2.04]\n"
     ]
    }
   ],
   "source": [
    "from sklearn.linear_model import LinearRegression\n",
    "np.random.seed(0)\n",
    "num_samples = 100\n",
    "x = np.linspace(0, 10, num_samples)\n",
    "sigma = 1\n",
    "b0_real = 3\n",
    "b1_real = 2\n",
    "epsilon = np.random.normal(0, sigma, num_samples)\n",
    "y = b0_real + b1_real * x + epsilon\n",
    "\n",
    "# Define a function to perform bootstrap resampling and fit a regression model\n",
    "def bootstrap_regression(data):\n",
    "    sample = data.sample(frac=1, replace=True)\n",
    "    X = sample[['x']]\n",
    "    y = sample['y']\n",
    "    model = LinearRegression()\n",
    "    model.fit(X, y)\n",
    "    return model.coef_[0]\n",
    "\n",
    "# Resample the data and compute the p-value\n",
    "data = pd.DataFrame({'x': x, 'y': y})\n",
    "n_bootstraps = 1000\n",
    "slopes = np.empty(n_bootstraps)\n",
    "for i in range(n_bootstraps):\n",
    "    slopes[i] = bootstrap_regression(data)\n",
    "\n",
    "beta_1_hat = result.x[1]\n",
    "se = np.std(slopes)\n",
    "print('Standard error of slope:', se.round(2))\n",
    "ci = np.percentile(slopes, [2.5, 97.5])\n",
    "print('95% confidence interval of slope:', ci.round(2))\n"
   ]
  },
  {
   "attachments": {},
   "cell_type": "markdown",
   "metadata": {},
   "source": [
    "Para el error estándar, su valor es simplemente la desviación estándar de las pendientes obtenidas por remuestreo.\n",
    "\n",
    "Para el intervalo de confianza, calculamos los percentiles 2.5 y 97.5 de la distribución resultante de los coeficientes de pendiente para obtener el intervalo de confianza del 95 % para la pendiente. Si el intervalo *no contiene al 0*, se puede inferir que la pendiente no es 0 al 95% de confianza."
   ]
  },
  {
   "cell_type": "code",
   "execution_count": 41,
   "metadata": {},
   "outputs": [
    {
     "data": {
      "text/plain": [
       "array([1.97026731])"
      ]
     },
     "execution_count": 41,
     "metadata": {},
     "output_type": "execute_result"
    }
   ],
   "source": [
    "model.fit(x.reshape(-1, 1), y)\n",
    "model."
   ]
  }
 ],
 "metadata": {
  "kernelspec": {
   "display_name": "base",
   "language": "python",
   "name": "python3"
  },
  "language_info": {
   "codemirror_mode": {
    "name": "ipython",
    "version": 3
   },
   "file_extension": ".py",
   "mimetype": "text/x-python",
   "name": "python",
   "nbconvert_exporter": "python",
   "pygments_lexer": "ipython3",
   "version": "3.9.13"
  },
  "orig_nbformat": 4,
  "vscode": {
   "interpreter": {
    "hash": "250f9a87e4fb839d4a665aae3d7395b3ec2b811dfe95dbba6380d56bd4036337"
   }
  }
 },
 "nbformat": 4,
 "nbformat_minor": 2
}
